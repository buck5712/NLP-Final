{
 "cells": [
  {
   "cell_type": "code",
   "execution_count": 1,
   "id": "ab23a2b3",
   "metadata": {
    "_cell_guid": "b1076dfc-b9ad-4769-8c92-a6c4dae69d19",
    "_uuid": "8f2839f25d086af736a60e9eeb907d3b93b6e0e5",
    "execution": {
     "iopub.execute_input": "2022-05-30T09:35:25.001651Z",
     "iopub.status.busy": "2022-05-30T09:35:25.001291Z",
     "iopub.status.idle": "2022-05-30T09:35:25.015736Z",
     "shell.execute_reply": "2022-05-30T09:35:25.014175Z"
    },
    "papermill": {
     "duration": 0.031812,
     "end_time": "2022-05-30T09:35:25.018264",
     "exception": false,
     "start_time": "2022-05-30T09:35:24.986452",
     "status": "completed"
    },
    "tags": []
   },
   "outputs": [
    {
     "name": "stdout",
     "output_type": "stream",
     "text": [
      "/kaggle/input/nycu-nlp110/sample.csv\n",
      "/kaggle/input/nycu-nlp110/fixed_test.csv\n",
      "/kaggle/input/nycu-nlp110/fixed_train.csv\n",
      "/kaggle/input/nycu-nlp110/fixed_valid.csv\n"
     ]
    }
   ],
   "source": [
    "# This Python 3 environment comes with many helpful analytics libraries installed\n",
    "# It is defined by the kaggle/python Docker image: https://github.com/kaggle/docker-python\n",
    "# For example, here's several helpful packages to load\n",
    "\n",
    "import numpy as np # linear algebra\n",
    "import pandas as pd # data processing, CSV file I/O (e.g. pd.read_csv)\n",
    "\n",
    "# Input data files are available in the read-only \"../input/\" directory\n",
    "# For example, running this (by clicking run or pressing Shift+Enter) will list all files under the input directory\n",
    "\n",
    "import os\n",
    "for dirname, _, filenames in os.walk('/kaggle/input'):\n",
    "    for filename in filenames:\n",
    "        print(os.path.join(dirname, filename))\n",
    "\n",
    "# You can write up to 20GB to the current directory (/kaggle/working/) that gets preserved as output when you create a version using \"Save & Run All\" \n",
    "# You can also write temporary files to /kaggle/temp/, but they won't be saved outside of the current session"
   ]
  },
  {
   "cell_type": "code",
   "execution_count": 2,
   "id": "968a6761",
   "metadata": {
    "execution": {
     "iopub.execute_input": "2022-05-30T09:35:25.046687Z",
     "iopub.status.busy": "2022-05-30T09:35:25.045956Z",
     "iopub.status.idle": "2022-05-30T09:35:27.672965Z",
     "shell.execute_reply": "2022-05-30T09:35:27.671848Z"
    },
    "papermill": {
     "duration": 2.643527,
     "end_time": "2022-05-30T09:35:27.675659",
     "exception": false,
     "start_time": "2022-05-30T09:35:25.032132",
     "status": "completed"
    },
    "tags": []
   },
   "outputs": [
    {
     "name": "stdout",
     "output_type": "stream",
     "text": [
      "Cloning into 'NLP-Final'...\r\n",
      "remote: Enumerating objects: 112, done.\u001b[K\r\n",
      "remote: Counting objects: 100% (112/112), done.\u001b[K\r\n",
      "remote: Compressing objects: 100% (82/82), done.\u001b[K\r\n",
      "remote: Total 112 (delta 48), reused 90 (delta 29), pack-reused 0\u001b[K\r\n",
      "Receiving objects: 100% (112/112), 3.09 MiB | 5.09 MiB/s, done.\r\n",
      "Resolving deltas: 100% (48/48), done.\r\n"
     ]
    }
   ],
   "source": [
    "!git clone https://github.com/buck5712/NLP-Final.git"
   ]
  },
  {
   "cell_type": "code",
   "execution_count": 3,
   "id": "ec68aae2",
   "metadata": {
    "execution": {
     "iopub.execute_input": "2022-05-30T09:35:27.710974Z",
     "iopub.status.busy": "2022-05-30T09:35:27.710632Z",
     "iopub.status.idle": "2022-05-30T09:35:27.714675Z",
     "shell.execute_reply": "2022-05-30T09:35:27.713741Z"
    },
    "papermill": {
     "duration": 0.024278,
     "end_time": "2022-05-30T09:35:27.716744",
     "exception": false,
     "start_time": "2022-05-30T09:35:27.692466",
     "status": "completed"
    },
    "tags": []
   },
   "outputs": [],
   "source": [
    "#!git pull origin main"
   ]
  },
  {
   "cell_type": "code",
   "execution_count": 4,
   "id": "6be0e696",
   "metadata": {
    "execution": {
     "iopub.execute_input": "2022-05-30T09:35:27.751580Z",
     "iopub.status.busy": "2022-05-30T09:35:27.751321Z",
     "iopub.status.idle": "2022-05-30T09:35:27.754882Z",
     "shell.execute_reply": "2022-05-30T09:35:27.753989Z"
    },
    "papermill": {
     "duration": 0.023438,
     "end_time": "2022-05-30T09:35:27.756977",
     "exception": false,
     "start_time": "2022-05-30T09:35:27.733539",
     "status": "completed"
    },
    "tags": []
   },
   "outputs": [],
   "source": [
    "#!git remote add origin https://github.com/buck5712/NLP-Final.git"
   ]
  },
  {
   "cell_type": "code",
   "execution_count": 5,
   "id": "985a1e2c",
   "metadata": {
    "execution": {
     "iopub.execute_input": "2022-05-30T09:35:27.791476Z",
     "iopub.status.busy": "2022-05-30T09:35:27.791202Z",
     "iopub.status.idle": "2022-05-30T09:35:46.716935Z",
     "shell.execute_reply": "2022-05-30T09:35:46.715573Z"
    },
    "papermill": {
     "duration": 18.946951,
     "end_time": "2022-05-30T09:35:46.720581",
     "exception": false,
     "start_time": "2022-05-30T09:35:27.773630",
     "status": "completed"
    },
    "tags": []
   },
   "outputs": [
    {
     "name": "stdout",
     "output_type": "stream",
     "text": [
      "Requirement already satisfied: numpy>=1.13.3 in /opt/conda/lib/python3.7/site-packages (from -r ./NLP-Final/requirements.txt (line 1)) (1.21.6)\r\n",
      "Requirement already satisfied: torch>=0.4.0 in /opt/conda/lib/python3.7/site-packages (from -r ./NLP-Final/requirements.txt (line 2)) (1.11.0+cpu)\r\n",
      "Collecting transformers<4.0.0,>=3.5.1\r\n",
      "  Downloading transformers-3.5.1-py3-none-any.whl (1.3 MB)\r\n",
      "\u001b[2K     \u001b[90m━━━━━━━━━━━━━━━━━━━━━━━━━━━━━━━━━━━━━━━━\u001b[0m \u001b[32m1.3/1.3 MB\u001b[0m \u001b[31m2.9 MB/s\u001b[0m eta \u001b[36m0:00:00\u001b[0m\r\n",
      "\u001b[?25hRequirement already satisfied: sklearn in /opt/conda/lib/python3.7/site-packages (from -r ./NLP-Final/requirements.txt (line 4)) (0.0)\r\n",
      "Requirement already satisfied: typing-extensions in /opt/conda/lib/python3.7/site-packages (from torch>=0.4.0->-r ./NLP-Final/requirements.txt (line 2)) (4.2.0)\r\n",
      "Requirement already satisfied: filelock in /opt/conda/lib/python3.7/site-packages (from transformers<4.0.0,>=3.5.1->-r ./NLP-Final/requirements.txt (line 3)) (3.6.0)\r\n",
      "Requirement already satisfied: regex!=2019.12.17 in /opt/conda/lib/python3.7/site-packages (from transformers<4.0.0,>=3.5.1->-r ./NLP-Final/requirements.txt (line 3)) (2021.11.10)\r\n",
      "Requirement already satisfied: tqdm>=4.27 in /opt/conda/lib/python3.7/site-packages (from transformers<4.0.0,>=3.5.1->-r ./NLP-Final/requirements.txt (line 3)) (4.63.0)\r\n",
      "Collecting sentencepiece==0.1.91\r\n",
      "  Downloading sentencepiece-0.1.91-cp37-cp37m-manylinux1_x86_64.whl (1.1 MB)\r\n",
      "\u001b[2K     \u001b[90m━━━━━━━━━━━━━━━━━━━━━━━━━━━━━━━━━━━━━━━━\u001b[0m \u001b[32m1.1/1.1 MB\u001b[0m \u001b[31m23.0 MB/s\u001b[0m eta \u001b[36m0:00:00\u001b[0m\r\n",
      "\u001b[?25hRequirement already satisfied: protobuf in /opt/conda/lib/python3.7/site-packages (from transformers<4.0.0,>=3.5.1->-r ./NLP-Final/requirements.txt (line 3)) (3.19.4)\r\n",
      "Requirement already satisfied: requests in /opt/conda/lib/python3.7/site-packages (from transformers<4.0.0,>=3.5.1->-r ./NLP-Final/requirements.txt (line 3)) (2.27.1)\r\n",
      "Collecting tokenizers==0.9.3\r\n",
      "  Downloading tokenizers-0.9.3-cp37-cp37m-manylinux1_x86_64.whl (2.9 MB)\r\n",
      "\u001b[2K     \u001b[90m━━━━━━━━━━━━━━━━━━━━━━━━━━━━━━━━━━━━━━━━\u001b[0m \u001b[32m2.9/2.9 MB\u001b[0m \u001b[31m24.3 MB/s\u001b[0m eta \u001b[36m0:00:00\u001b[0m\r\n",
      "\u001b[?25hRequirement already satisfied: sacremoses in /opt/conda/lib/python3.7/site-packages (from transformers<4.0.0,>=3.5.1->-r ./NLP-Final/requirements.txt (line 3)) (0.0.53)\r\n",
      "Requirement already satisfied: packaging in /opt/conda/lib/python3.7/site-packages (from transformers<4.0.0,>=3.5.1->-r ./NLP-Final/requirements.txt (line 3)) (21.3)\r\n",
      "Requirement already satisfied: scikit-learn in /opt/conda/lib/python3.7/site-packages (from sklearn->-r ./NLP-Final/requirements.txt (line 4)) (1.0.2)\r\n",
      "Requirement already satisfied: pyparsing!=3.0.5,>=2.0.2 in /opt/conda/lib/python3.7/site-packages (from packaging->transformers<4.0.0,>=3.5.1->-r ./NLP-Final/requirements.txt (line 3)) (3.0.7)\r\n",
      "Requirement already satisfied: charset-normalizer~=2.0.0 in /opt/conda/lib/python3.7/site-packages (from requests->transformers<4.0.0,>=3.5.1->-r ./NLP-Final/requirements.txt (line 3)) (2.0.12)\r\n",
      "Requirement already satisfied: certifi>=2017.4.17 in /opt/conda/lib/python3.7/site-packages (from requests->transformers<4.0.0,>=3.5.1->-r ./NLP-Final/requirements.txt (line 3)) (2021.10.8)\r\n",
      "Requirement already satisfied: urllib3<1.27,>=1.21.1 in /opt/conda/lib/python3.7/site-packages (from requests->transformers<4.0.0,>=3.5.1->-r ./NLP-Final/requirements.txt (line 3)) (1.26.8)\r\n",
      "Requirement already satisfied: idna<4,>=2.5 in /opt/conda/lib/python3.7/site-packages (from requests->transformers<4.0.0,>=3.5.1->-r ./NLP-Final/requirements.txt (line 3)) (3.3)\r\n",
      "Requirement already satisfied: joblib in /opt/conda/lib/python3.7/site-packages (from sacremoses->transformers<4.0.0,>=3.5.1->-r ./NLP-Final/requirements.txt (line 3)) (1.0.1)\r\n",
      "Requirement already satisfied: six in /opt/conda/lib/python3.7/site-packages (from sacremoses->transformers<4.0.0,>=3.5.1->-r ./NLP-Final/requirements.txt (line 3)) (1.16.0)\r\n",
      "Requirement already satisfied: click in /opt/conda/lib/python3.7/site-packages (from sacremoses->transformers<4.0.0,>=3.5.1->-r ./NLP-Final/requirements.txt (line 3)) (8.0.4)\r\n",
      "Requirement already satisfied: threadpoolctl>=2.0.0 in /opt/conda/lib/python3.7/site-packages (from scikit-learn->sklearn->-r ./NLP-Final/requirements.txt (line 4)) (3.1.0)\r\n",
      "Requirement already satisfied: scipy>=1.1.0 in /opt/conda/lib/python3.7/site-packages (from scikit-learn->sklearn->-r ./NLP-Final/requirements.txt (line 4)) (1.7.3)\r\n",
      "Requirement already satisfied: importlib-metadata in /opt/conda/lib/python3.7/site-packages (from click->sacremoses->transformers<4.0.0,>=3.5.1->-r ./NLP-Final/requirements.txt (line 3)) (4.11.3)\r\n",
      "Requirement already satisfied: zipp>=0.5 in /opt/conda/lib/python3.7/site-packages (from importlib-metadata->click->sacremoses->transformers<4.0.0,>=3.5.1->-r ./NLP-Final/requirements.txt (line 3)) (3.7.0)\r\n",
      "Installing collected packages: tokenizers, sentencepiece, transformers\r\n",
      "  Attempting uninstall: tokenizers\r\n",
      "    Found existing installation: tokenizers 0.12.1\r\n",
      "    Uninstalling tokenizers-0.12.1:\r\n",
      "      Successfully uninstalled tokenizers-0.12.1\r\n",
      "  Attempting uninstall: sentencepiece\r\n",
      "    Found existing installation: sentencepiece 0.1.96\r\n",
      "    Uninstalling sentencepiece-0.1.96:\r\n",
      "      Successfully uninstalled sentencepiece-0.1.96\r\n",
      "  Attempting uninstall: transformers\r\n",
      "    Found existing installation: transformers 4.18.0\r\n",
      "    Uninstalling transformers-4.18.0:\r\n",
      "      Successfully uninstalled transformers-4.18.0\r\n",
      "\u001b[31mERROR: pip's dependency resolver does not currently take into account all the packages that are installed. This behaviour is the source of the following dependency conflicts.\r\n",
      "allennlp 2.9.3 requires transformers<4.19,>=4.1, but you have transformers 3.5.1 which is incompatible.\u001b[0m\u001b[31m\r\n",
      "\u001b[0mSuccessfully installed sentencepiece-0.1.91 tokenizers-0.9.3 transformers-3.5.1\r\n",
      "\u001b[33mWARNING: Running pip as the 'root' user can result in broken permissions and conflicting behaviour with the system package manager. It is recommended to use a virtual environment instead: https://pip.pypa.io/warnings/venv\u001b[0m\u001b[33m\r\n",
      "\u001b[0m"
     ]
    }
   ],
   "source": [
    "!pip install -r ./NLP-Final/requirements.txt"
   ]
  },
  {
   "cell_type": "code",
   "execution_count": 6,
   "id": "f3db8cf7",
   "metadata": {
    "execution": {
     "iopub.execute_input": "2022-05-30T09:35:46.792299Z",
     "iopub.status.busy": "2022-05-30T09:35:46.791959Z",
     "iopub.status.idle": "2022-05-30T09:35:47.539894Z",
     "shell.execute_reply": "2022-05-30T09:35:47.538833Z"
    },
    "papermill": {
     "duration": 0.786054,
     "end_time": "2022-05-30T09:35:47.542283",
     "exception": false,
     "start_time": "2022-05-30T09:35:46.756229",
     "status": "completed"
    },
    "tags": []
   },
   "outputs": [
    {
     "name": "stdout",
     "output_type": "stream",
     "text": [
      "1.13.3\t\t\t datasets\t      requirements.txt\r\n",
      "3.5.1\t\t\t dependency_graph.py  requirements_rtx30.txt\r\n",
      "ABSA-PyTorch-master.zip  infer_example.py     train.py\r\n",
      "LICENCE\t\t\t kaggle.ipynb\t      train_k_fold_cross_val.py\r\n",
      "README.md\t\t layers\r\n",
      "data_utils.py\t\t models\r\n"
     ]
    }
   ],
   "source": [
    "!ls ./NLP-Final"
   ]
  },
  {
   "cell_type": "code",
   "execution_count": 7,
   "id": "63d4638f",
   "metadata": {
    "execution": {
     "iopub.execute_input": "2022-05-30T09:35:47.603838Z",
     "iopub.status.busy": "2022-05-30T09:35:47.603251Z",
     "iopub.status.idle": "2022-05-30T09:35:47.606570Z",
     "shell.execute_reply": "2022-05-30T09:35:47.605966Z"
    },
    "papermill": {
     "duration": 0.035894,
     "end_time": "2022-05-30T09:35:47.608320",
     "exception": false,
     "start_time": "2022-05-30T09:35:47.572426",
     "status": "completed"
    },
    "tags": []
   },
   "outputs": [],
   "source": [
    "#!ls"
   ]
  },
  {
   "cell_type": "code",
   "execution_count": 8,
   "id": "bb6777b6",
   "metadata": {
    "execution": {
     "iopub.execute_input": "2022-05-30T09:35:47.669712Z",
     "iopub.status.busy": "2022-05-30T09:35:47.668631Z",
     "iopub.status.idle": "2022-05-30T09:37:06.092273Z",
     "shell.execute_reply": "2022-05-30T09:37:06.091393Z"
    },
    "papermill": {
     "duration": 78.456345,
     "end_time": "2022-05-30T09:37:06.094602",
     "exception": false,
     "start_time": "2022-05-30T09:35:47.638257",
     "status": "completed"
    },
    "tags": []
   },
   "outputs": [
    {
     "name": "stdout",
     "output_type": "stream",
     "text": [
      "Collecting torch==1.4.0\r\n",
      "  Downloading torch-1.4.0-cp37-cp37m-manylinux1_x86_64.whl (753.4 MB)\r\n",
      "\u001b[2K     \u001b[90m━━━━━━━━━━━━━━━━━━━━━━━━━━━━━━━━━━━━━━━\u001b[0m \u001b[32m753.4/753.4 MB\u001b[0m \u001b[31m1.6 MB/s\u001b[0m eta \u001b[36m0:00:00\u001b[0m\r\n",
      "\u001b[?25hInstalling collected packages: torch\r\n",
      "  Attempting uninstall: torch\r\n",
      "    Found existing installation: torch 1.11.0+cpu\r\n",
      "    Uninstalling torch-1.11.0+cpu:\r\n",
      "      Successfully uninstalled torch-1.11.0+cpu\r\n",
      "\u001b[31mERROR: pip's dependency resolver does not currently take into account all the packages that are installed. This behaviour is the source of the following dependency conflicts.\r\n",
      "torchvision 0.12.0+cpu requires torch==1.11.0, but you have torch 1.4.0 which is incompatible.\r\n",
      "torchtext 0.12.0 requires torch==1.11.0, but you have torch 1.4.0 which is incompatible.\r\n",
      "torchaudio 0.11.0+cpu requires torch==1.11.0, but you have torch 1.4.0 which is incompatible.\r\n",
      "pytorch-lightning 1.6.3 requires torch>=1.8.*, but you have torch 1.4.0 which is incompatible.\r\n",
      "kornia 0.5.8 requires torch>=1.6.0, but you have torch 1.4.0 which is incompatible.\r\n",
      "fastai 2.6.3 requires torch<1.12,>=1.7.0, but you have torch 1.4.0 which is incompatible.\r\n",
      "fairscale 0.4.6 requires torch>=1.8.0, but you have torch 1.4.0 which is incompatible.\r\n",
      "allennlp 2.9.3 requires torch<1.12.0,>=1.6.0, but you have torch 1.4.0 which is incompatible.\r\n",
      "allennlp 2.9.3 requires transformers<4.19,>=4.1, but you have transformers 3.5.1 which is incompatible.\u001b[0m\u001b[31m\r\n",
      "\u001b[0mSuccessfully installed torch-1.4.0\r\n",
      "\u001b[33mWARNING: Running pip as the 'root' user can result in broken permissions and conflicting behaviour with the system package manager. It is recommended to use a virtual environment instead: https://pip.pypa.io/warnings/venv\u001b[0m\u001b[33m\r\n",
      "\u001b[0m"
     ]
    }
   ],
   "source": [
    "!pip install torch==1.4.0"
   ]
  },
  {
   "cell_type": "code",
   "execution_count": 9,
   "id": "dc034483",
   "metadata": {
    "execution": {
     "iopub.execute_input": "2022-05-30T09:37:06.532633Z",
     "iopub.status.busy": "2022-05-30T09:37:06.532107Z",
     "iopub.status.idle": "2022-05-30T09:37:07.276320Z",
     "shell.execute_reply": "2022-05-30T09:37:07.275511Z"
    },
    "papermill": {
     "duration": 0.965648,
     "end_time": "2022-05-30T09:37:07.278523",
     "exception": false,
     "start_time": "2022-05-30T09:37:06.312875",
     "status": "completed"
    },
    "tags": []
   },
   "outputs": [
    {
     "name": "stdout",
     "output_type": "stream",
     "text": [
      "fatal: destination path 'NLP-Final' already exists and is not an empty directory.\r\n"
     ]
    }
   ],
   "source": [
    "!git clone https://github.com/buck5712/NLP-Final.git"
   ]
  },
  {
   "cell_type": "code",
   "execution_count": 10,
   "id": "c7b5c146",
   "metadata": {
    "execution": {
     "iopub.execute_input": "2022-05-30T09:37:07.720572Z",
     "iopub.status.busy": "2022-05-30T09:37:07.719653Z",
     "iopub.status.idle": "2022-05-30T09:37:08.570062Z",
     "shell.execute_reply": "2022-05-30T09:37:08.568979Z"
    },
    "papermill": {
     "duration": 1.075357,
     "end_time": "2022-05-30T09:37:08.572349",
     "exception": false,
     "start_time": "2022-05-30T09:37:07.496992",
     "status": "completed"
    },
    "tags": []
   },
   "outputs": [
    {
     "name": "stdout",
     "output_type": "stream",
     "text": [
      "  File \"./NLP-Final/train.py\", line 249\r\n",
      "    'test':'./NLP-Final/datasets/Restaurants_Test_Gold.xml.seg'\r\n",
      "          ^\r\n",
      "SyntaxError: invalid syntax\r\n"
     ]
    }
   ],
   "source": [
    "!python ./NLP-Final/train.py --model_name bert_spc --dataset restaur"
   ]
  },
  {
   "cell_type": "code",
   "execution_count": null,
   "id": "7ce7a8e4",
   "metadata": {
    "papermill": {
     "duration": 0.220828,
     "end_time": "2022-05-30T09:37:09.014357",
     "exception": false,
     "start_time": "2022-05-30T09:37:08.793529",
     "status": "completed"
    },
    "tags": []
   },
   "outputs": [],
   "source": []
  }
 ],
 "metadata": {
  "kernelspec": {
   "display_name": "Python 3",
   "language": "python",
   "name": "python3"
  },
  "language_info": {
   "codemirror_mode": {
    "name": "ipython",
    "version": 3
   },
   "file_extension": ".py",
   "mimetype": "text/x-python",
   "name": "python",
   "nbconvert_exporter": "python",
   "pygments_lexer": "ipython3",
   "version": "3.7.12"
  },
  "papermill": {
   "default_parameters": {},
   "duration": 115.142134,
   "end_time": "2022-05-30T09:37:09.967367",
   "environment_variables": {},
   "exception": null,
   "input_path": "__notebook__.ipynb",
   "output_path": "__notebook__.ipynb",
   "parameters": {},
   "start_time": "2022-05-30T09:35:14.825233",
   "version": "2.3.4"
  }
 },
 "nbformat": 4,
 "nbformat_minor": 5
}
