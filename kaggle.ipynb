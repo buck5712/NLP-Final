{
 "cells": [
  {
   "cell_type": "code",
   "execution_count": 1,
   "id": "e7998403",
   "metadata": {
    "_cell_guid": "b1076dfc-b9ad-4769-8c92-a6c4dae69d19",
    "_uuid": "8f2839f25d086af736a60e9eeb907d3b93b6e0e5",
    "execution": {
     "iopub.execute_input": "2022-05-19T13:50:08.954008Z",
     "iopub.status.busy": "2022-05-19T13:50:08.953550Z",
     "iopub.status.idle": "2022-05-19T13:50:08.967422Z",
     "shell.execute_reply": "2022-05-19T13:50:08.966458Z"
    },
    "papermill": {
     "duration": 0.030912,
     "end_time": "2022-05-19T13:50:08.970379",
     "exception": false,
     "start_time": "2022-05-19T13:50:08.939467",
     "status": "completed"
    },
    "tags": []
   },
   "outputs": [
    {
     "name": "stdout",
     "output_type": "stream",
     "text": [
      "/kaggle/input/nycu-nlp110/sample.csv\n",
      "/kaggle/input/nycu-nlp110/fixed_test.csv\n",
      "/kaggle/input/nycu-nlp110/fixed_train.csv\n",
      "/kaggle/input/nycu-nlp110/fixed_valid.csv\n"
     ]
    }
   ],
   "source": [
    "# This Python 3 environment comes with many helpful analytics libraries installed\n",
    "# It is defined by the kaggle/python Docker image: https://github.com/kaggle/docker-python\n",
    "# For example, here's several helpful packages to load\n",
    "\n",
    "import numpy as np # linear algebra\n",
    "import pandas as pd # data processing, CSV file I/O (e.g. pd.read_csv)\n",
    "\n",
    "# Input data files are available in the read-only \"../input/\" directory\n",
    "# For example, running this (by clicking run or pressing Shift+Enter) will list all files under the input directory\n",
    "\n",
    "import os\n",
    "for dirname, _, filenames in os.walk('/kaggle/input'):\n",
    "    for filename in filenames:\n",
    "        print(os.path.join(dirname, filename))\n",
    "\n",
    "# You can write up to 20GB to the current directory (/kaggle/working/) that gets preserved as output when you create a version using \"Save & Run All\" \n",
    "# You can also write temporary files to /kaggle/temp/, but they won't be saved outside of the current session"
   ]
  },
  {
   "cell_type": "code",
   "execution_count": 2,
   "id": "28882f0b",
   "metadata": {
    "execution": {
     "iopub.execute_input": "2022-05-19T13:50:08.996144Z",
     "iopub.status.busy": "2022-05-19T13:50:08.995886Z",
     "iopub.status.idle": "2022-05-19T13:50:13.114278Z",
     "shell.execute_reply": "2022-05-19T13:50:13.113315Z"
    },
    "papermill": {
     "duration": 4.133341,
     "end_time": "2022-05-19T13:50:13.116560",
     "exception": false,
     "start_time": "2022-05-19T13:50:08.983219",
     "status": "completed"
    },
    "tags": []
   },
   "outputs": [
    {
     "name": "stdout",
     "output_type": "stream",
     "text": [
      "Cloning into 'NLP-Final'...\r\n",
      "remote: Enumerating objects: 89, done.\u001b[K\r\n",
      "remote: Counting objects: 100% (89/89), done.\u001b[K\r\n",
      "remote: Compressing objects: 100% (65/65), done.\u001b[K\r\n",
      "remote: Total 89 (delta 34), reused 77 (delta 24), pack-reused 0\u001b[K\r\n",
      "Unpacking objects: 100% (89/89), 3.09 MiB | 1.87 MiB/s, done.\r\n"
     ]
    }
   ],
   "source": [
    "!git clone https://github.com/buck5712/NLP-Final.git"
   ]
  },
  {
   "cell_type": "code",
   "execution_count": 3,
   "id": "d4311738",
   "metadata": {
    "execution": {
     "iopub.execute_input": "2022-05-19T13:50:13.147322Z",
     "iopub.status.busy": "2022-05-19T13:50:13.146766Z",
     "iopub.status.idle": "2022-05-19T13:50:13.930489Z",
     "shell.execute_reply": "2022-05-19T13:50:13.929650Z"
    },
    "papermill": {
     "duration": 0.801762,
     "end_time": "2022-05-19T13:50:13.932479",
     "exception": false,
     "start_time": "2022-05-19T13:50:13.130717",
     "status": "completed"
    },
    "tags": []
   },
   "outputs": [
    {
     "name": "stdout",
     "output_type": "stream",
     "text": [
      "fatal: not a git repository (or any parent up to mount point /kaggle)\r\n",
      "Stopping at filesystem boundary (GIT_DISCOVERY_ACROSS_FILESYSTEM not set).\r\n"
     ]
    }
   ],
   "source": [
    "!git pull origin main"
   ]
  },
  {
   "cell_type": "code",
   "execution_count": 4,
   "id": "248be5e0",
   "metadata": {
    "execution": {
     "iopub.execute_input": "2022-05-19T13:50:13.965624Z",
     "iopub.status.busy": "2022-05-19T13:50:13.965035Z",
     "iopub.status.idle": "2022-05-19T13:50:14.752966Z",
     "shell.execute_reply": "2022-05-19T13:50:14.751830Z"
    },
    "papermill": {
     "duration": 0.807652,
     "end_time": "2022-05-19T13:50:14.755258",
     "exception": false,
     "start_time": "2022-05-19T13:50:13.947606",
     "status": "completed"
    },
    "tags": []
   },
   "outputs": [
    {
     "name": "stdout",
     "output_type": "stream",
     "text": [
      "fatal: not a git repository (or any parent up to mount point /kaggle)\r\n",
      "Stopping at filesystem boundary (GIT_DISCOVERY_ACROSS_FILESYSTEM not set).\r\n"
     ]
    }
   ],
   "source": [
    "!git remote add origin https://github.com/buck5712/NLP-Final.git"
   ]
  },
  {
   "cell_type": "code",
   "execution_count": 5,
   "id": "095f16c0",
   "metadata": {
    "execution": {
     "iopub.execute_input": "2022-05-19T13:50:14.787259Z",
     "iopub.status.busy": "2022-05-19T13:50:14.786741Z",
     "iopub.status.idle": "2022-05-19T13:50:32.449517Z",
     "shell.execute_reply": "2022-05-19T13:50:32.448438Z"
    },
    "papermill": {
     "duration": 17.681306,
     "end_time": "2022-05-19T13:50:32.451968",
     "exception": false,
     "start_time": "2022-05-19T13:50:14.770662",
     "status": "completed"
    },
    "tags": []
   },
   "outputs": [
    {
     "name": "stdout",
     "output_type": "stream",
     "text": [
      "Requirement already satisfied: numpy>=1.13.3 in /opt/conda/lib/python3.7/site-packages (from -r ./NLP-Final/requirements.txt (line 1)) (1.21.6)\r\n",
      "Requirement already satisfied: torch>=0.4.0 in /opt/conda/lib/python3.7/site-packages (from -r ./NLP-Final/requirements.txt (line 2)) (1.11.0+cpu)\r\n",
      "Collecting transformers<4.0.0,>=3.5.1\r\n",
      "  Downloading transformers-3.5.1-py3-none-any.whl (1.3 MB)\r\n",
      "\u001b[2K     \u001b[90m━━━━━━━━━━━━━━━━━━━━━━━━━━━━━━━━━━━━━━━━\u001b[0m \u001b[32m1.3/1.3 MB\u001b[0m \u001b[31m1.4 MB/s\u001b[0m eta \u001b[36m0:00:00\u001b[0m\r\n",
      "\u001b[?25hRequirement already satisfied: sklearn in /opt/conda/lib/python3.7/site-packages (from -r ./NLP-Final/requirements.txt (line 4)) (0.0)\r\n",
      "Requirement already satisfied: typing-extensions in /opt/conda/lib/python3.7/site-packages (from torch>=0.4.0->-r ./NLP-Final/requirements.txt (line 2)) (4.2.0)\r\n",
      "Collecting sentencepiece==0.1.91\r\n",
      "  Downloading sentencepiece-0.1.91-cp37-cp37m-manylinux1_x86_64.whl (1.1 MB)\r\n",
      "\u001b[2K     \u001b[90m━━━━━━━━━━━━━━━━━━━━━━━━━━━━━━━━━━━━━━━━\u001b[0m \u001b[32m1.1/1.1 MB\u001b[0m \u001b[31m12.3 MB/s\u001b[0m eta \u001b[36m0:00:00\u001b[0m\r\n",
      "\u001b[?25hRequirement already satisfied: requests in /opt/conda/lib/python3.7/site-packages (from transformers<4.0.0,>=3.5.1->-r ./NLP-Final/requirements.txt (line 3)) (2.27.1)\r\n",
      "Requirement already satisfied: tqdm>=4.27 in /opt/conda/lib/python3.7/site-packages (from transformers<4.0.0,>=3.5.1->-r ./NLP-Final/requirements.txt (line 3)) (4.63.0)\r\n",
      "Collecting tokenizers==0.9.3\r\n",
      "  Downloading tokenizers-0.9.3-cp37-cp37m-manylinux1_x86_64.whl (2.9 MB)\r\n",
      "\u001b[2K     \u001b[90m━━━━━━━━━━━━━━━━━━━━━━━━━━━━━━━━━━━━━━━━\u001b[0m \u001b[32m2.9/2.9 MB\u001b[0m \u001b[31m13.0 MB/s\u001b[0m eta \u001b[36m0:00:00\u001b[0m\r\n",
      "\u001b[?25hRequirement already satisfied: protobuf in /opt/conda/lib/python3.7/site-packages (from transformers<4.0.0,>=3.5.1->-r ./NLP-Final/requirements.txt (line 3)) (3.19.4)\r\n",
      "Requirement already satisfied: regex!=2019.12.17 in /opt/conda/lib/python3.7/site-packages (from transformers<4.0.0,>=3.5.1->-r ./NLP-Final/requirements.txt (line 3)) (2021.11.10)\r\n",
      "Requirement already satisfied: packaging in /opt/conda/lib/python3.7/site-packages (from transformers<4.0.0,>=3.5.1->-r ./NLP-Final/requirements.txt (line 3)) (21.3)\r\n",
      "Requirement already satisfied: sacremoses in /opt/conda/lib/python3.7/site-packages (from transformers<4.0.0,>=3.5.1->-r ./NLP-Final/requirements.txt (line 3)) (0.0.53)\r\n",
      "Requirement already satisfied: filelock in /opt/conda/lib/python3.7/site-packages (from transformers<4.0.0,>=3.5.1->-r ./NLP-Final/requirements.txt (line 3)) (3.6.0)\r\n",
      "Requirement already satisfied: scikit-learn in /opt/conda/lib/python3.7/site-packages (from sklearn->-r ./NLP-Final/requirements.txt (line 4)) (1.0.2)\r\n",
      "Requirement already satisfied: pyparsing!=3.0.5,>=2.0.2 in /opt/conda/lib/python3.7/site-packages (from packaging->transformers<4.0.0,>=3.5.1->-r ./NLP-Final/requirements.txt (line 3)) (3.0.7)\r\n",
      "Requirement already satisfied: certifi>=2017.4.17 in /opt/conda/lib/python3.7/site-packages (from requests->transformers<4.0.0,>=3.5.1->-r ./NLP-Final/requirements.txt (line 3)) (2021.10.8)\r\n",
      "Requirement already satisfied: charset-normalizer~=2.0.0 in /opt/conda/lib/python3.7/site-packages (from requests->transformers<4.0.0,>=3.5.1->-r ./NLP-Final/requirements.txt (line 3)) (2.0.12)\r\n",
      "Requirement already satisfied: urllib3<1.27,>=1.21.1 in /opt/conda/lib/python3.7/site-packages (from requests->transformers<4.0.0,>=3.5.1->-r ./NLP-Final/requirements.txt (line 3)) (1.26.8)\r\n",
      "Requirement already satisfied: idna<4,>=2.5 in /opt/conda/lib/python3.7/site-packages (from requests->transformers<4.0.0,>=3.5.1->-r ./NLP-Final/requirements.txt (line 3)) (3.3)\r\n",
      "Requirement already satisfied: joblib in /opt/conda/lib/python3.7/site-packages (from sacremoses->transformers<4.0.0,>=3.5.1->-r ./NLP-Final/requirements.txt (line 3)) (1.0.1)\r\n",
      "Requirement already satisfied: six in /opt/conda/lib/python3.7/site-packages (from sacremoses->transformers<4.0.0,>=3.5.1->-r ./NLP-Final/requirements.txt (line 3)) (1.16.0)\r\n",
      "Requirement already satisfied: click in /opt/conda/lib/python3.7/site-packages (from sacremoses->transformers<4.0.0,>=3.5.1->-r ./NLP-Final/requirements.txt (line 3)) (8.0.4)\r\n",
      "Requirement already satisfied: threadpoolctl>=2.0.0 in /opt/conda/lib/python3.7/site-packages (from scikit-learn->sklearn->-r ./NLP-Final/requirements.txt (line 4)) (3.1.0)\r\n",
      "Requirement already satisfied: scipy>=1.1.0 in /opt/conda/lib/python3.7/site-packages (from scikit-learn->sklearn->-r ./NLP-Final/requirements.txt (line 4)) (1.7.3)\r\n",
      "Requirement already satisfied: importlib-metadata in /opt/conda/lib/python3.7/site-packages (from click->sacremoses->transformers<4.0.0,>=3.5.1->-r ./NLP-Final/requirements.txt (line 3)) (4.11.3)\r\n",
      "Requirement already satisfied: zipp>=0.5 in /opt/conda/lib/python3.7/site-packages (from importlib-metadata->click->sacremoses->transformers<4.0.0,>=3.5.1->-r ./NLP-Final/requirements.txt (line 3)) (3.7.0)\r\n",
      "Installing collected packages: tokenizers, sentencepiece, transformers\r\n",
      "  Attempting uninstall: tokenizers\r\n",
      "    Found existing installation: tokenizers 0.12.1\r\n",
      "    Uninstalling tokenizers-0.12.1:\r\n",
      "      Successfully uninstalled tokenizers-0.12.1\r\n",
      "  Attempting uninstall: sentencepiece\r\n",
      "    Found existing installation: sentencepiece 0.1.96\r\n",
      "    Uninstalling sentencepiece-0.1.96:\r\n",
      "      Successfully uninstalled sentencepiece-0.1.96\r\n",
      "  Attempting uninstall: transformers\r\n",
      "    Found existing installation: transformers 4.18.0\r\n",
      "    Uninstalling transformers-4.18.0:\r\n",
      "      Successfully uninstalled transformers-4.18.0\r\n",
      "\u001b[31mERROR: pip's dependency resolver does not currently take into account all the packages that are installed. This behaviour is the source of the following dependency conflicts.\r\n",
      "allennlp 2.9.3 requires transformers<4.19,>=4.1, but you have transformers 3.5.1 which is incompatible.\u001b[0m\u001b[31m\r\n",
      "\u001b[0mSuccessfully installed sentencepiece-0.1.91 tokenizers-0.9.3 transformers-3.5.1\r\n",
      "\u001b[33mWARNING: Running pip as the 'root' user can result in broken permissions and conflicting behaviour with the system package manager. It is recommended to use a virtual environment instead: https://pip.pypa.io/warnings/venv\u001b[0m\u001b[33m\r\n",
      "\u001b[0m"
     ]
    }
   ],
   "source": [
    "!pip install -r ./NLP-Final/requirements.txt"
   ]
  },
  {
   "cell_type": "code",
   "execution_count": 6,
   "id": "c2c325db",
   "metadata": {
    "execution": {
     "iopub.execute_input": "2022-05-19T13:50:32.508440Z",
     "iopub.status.busy": "2022-05-19T13:50:32.508100Z",
     "iopub.status.idle": "2022-05-19T13:50:33.305113Z",
     "shell.execute_reply": "2022-05-19T13:50:33.304268Z"
    },
    "papermill": {
     "duration": 0.828259,
     "end_time": "2022-05-19T13:50:33.307206",
     "exception": false,
     "start_time": "2022-05-19T13:50:32.478947",
     "status": "completed"
    },
    "tags": []
   },
   "outputs": [
    {
     "name": "stdout",
     "output_type": "stream",
     "text": [
      "ABSA-PyTorch-master.zip  dependency_graph.py  requirements.txt\r\n",
      "LICENCE\t\t\t infer_example.py     requirements_rtx30.txt\r\n",
      "README.md\t\t kaggle.ipynb\t      train.py\r\n",
      "data_utils.py\t\t layers\t\t      train_k_fold_cross_val.py\r\n",
      "datasets\t\t models\r\n"
     ]
    }
   ],
   "source": [
    "!ls ./NLP-Final"
   ]
  },
  {
   "cell_type": "code",
   "execution_count": 7,
   "id": "a6bdf679",
   "metadata": {
    "execution": {
     "iopub.execute_input": "2022-05-19T13:50:33.364656Z",
     "iopub.status.busy": "2022-05-19T13:50:33.364308Z",
     "iopub.status.idle": "2022-05-19T13:50:34.149511Z",
     "shell.execute_reply": "2022-05-19T13:50:34.148703Z"
    },
    "papermill": {
     "duration": 0.816278,
     "end_time": "2022-05-19T13:50:34.151585",
     "exception": false,
     "start_time": "2022-05-19T13:50:33.335307",
     "status": "completed"
    },
    "tags": []
   },
   "outputs": [
    {
     "name": "stdout",
     "output_type": "stream",
     "text": [
      "NLP-Final  __notebook__.ipynb\r\n"
     ]
    }
   ],
   "source": [
    "!ls"
   ]
  },
  {
   "cell_type": "code",
   "execution_count": 8,
   "id": "d423aef0",
   "metadata": {
    "execution": {
     "iopub.execute_input": "2022-05-19T13:50:34.209063Z",
     "iopub.status.busy": "2022-05-19T13:50:34.208544Z",
     "iopub.status.idle": "2022-05-19T13:52:17.341061Z",
     "shell.execute_reply": "2022-05-19T13:52:17.339740Z"
    },
    "papermill": {
     "duration": 103.165032,
     "end_time": "2022-05-19T13:52:17.344092",
     "exception": false,
     "start_time": "2022-05-19T13:50:34.179060",
     "status": "completed"
    },
    "tags": []
   },
   "outputs": [
    {
     "name": "stdout",
     "output_type": "stream",
     "text": [
      "Collecting torch==1.4.0\r\n",
      "  Downloading torch-1.4.0-cp37-cp37m-manylinux1_x86_64.whl (753.4 MB)\r\n",
      "\u001b[2K     \u001b[90m━━━━━━━━━━━━━━━━━━━━━━━━━━━━━━━━━━━━━\u001b[0m \u001b[32m753.4/753.4 MB\u001b[0m \u001b[31m775.6 kB/s\u001b[0m eta \u001b[36m0:00:00\u001b[0m\r\n",
      "\u001b[?25hInstalling collected packages: torch\r\n",
      "  Attempting uninstall: torch\r\n",
      "    Found existing installation: torch 1.11.0+cpu\r\n",
      "    Uninstalling torch-1.11.0+cpu:\r\n",
      "      Successfully uninstalled torch-1.11.0+cpu\r\n",
      "\u001b[31mERROR: pip's dependency resolver does not currently take into account all the packages that are installed. This behaviour is the source of the following dependency conflicts.\r\n",
      "torchvision 0.12.0+cpu requires torch==1.11.0, but you have torch 1.4.0 which is incompatible.\r\n",
      "torchtext 0.12.0 requires torch==1.11.0, but you have torch 1.4.0 which is incompatible.\r\n",
      "torchaudio 0.11.0+cpu requires torch==1.11.0, but you have torch 1.4.0 which is incompatible.\r\n",
      "pytorch-lightning 1.6.3 requires torch>=1.8.*, but you have torch 1.4.0 which is incompatible.\r\n",
      "kornia 0.5.8 requires torch>=1.6.0, but you have torch 1.4.0 which is incompatible.\r\n",
      "fastai 2.6.3 requires torch<1.12,>=1.7.0, but you have torch 1.4.0 which is incompatible.\r\n",
      "fairscale 0.4.6 requires torch>=1.8.0, but you have torch 1.4.0 which is incompatible.\r\n",
      "allennlp 2.9.3 requires torch<1.12.0,>=1.6.0, but you have torch 1.4.0 which is incompatible.\r\n",
      "allennlp 2.9.3 requires transformers<4.19,>=4.1, but you have transformers 3.5.1 which is incompatible.\u001b[0m\u001b[31m\r\n",
      "\u001b[0mSuccessfully installed torch-1.4.0\r\n",
      "\u001b[33mWARNING: Running pip as the 'root' user can result in broken permissions and conflicting behaviour with the system package manager. It is recommended to use a virtual environment instead: https://pip.pypa.io/warnings/venv\u001b[0m\u001b[33m\r\n",
      "\u001b[0m"
     ]
    }
   ],
   "source": [
    "!pip install torch==1.4.0"
   ]
  },
  {
   "cell_type": "code",
   "execution_count": 9,
   "id": "d3cbb111",
   "metadata": {
    "execution": {
     "iopub.execute_input": "2022-05-19T13:52:17.971348Z",
     "iopub.status.busy": "2022-05-19T13:52:17.970396Z",
     "iopub.status.idle": "2022-05-19T13:52:18.775586Z",
     "shell.execute_reply": "2022-05-19T13:52:18.774528Z"
    },
    "papermill": {
     "duration": 1.120554,
     "end_time": "2022-05-19T13:52:18.777856",
     "exception": false,
     "start_time": "2022-05-19T13:52:17.657302",
     "status": "completed"
    },
    "tags": []
   },
   "outputs": [
    {
     "name": "stdout",
     "output_type": "stream",
     "text": [
      "fatal: destination path 'NLP-Final' already exists and is not an empty directory.\r\n"
     ]
    }
   ],
   "source": [
    "!git clone https://github.com/buck5712/NLP-Final.git"
   ]
  },
  {
   "cell_type": "code",
   "execution_count": 10,
   "id": "21efe98f",
   "metadata": {
    "execution": {
     "iopub.execute_input": "2022-05-19T13:52:19.399396Z",
     "iopub.status.busy": "2022-05-19T13:52:19.399065Z",
     "iopub.status.idle": "2022-05-19T13:52:39.522553Z",
     "shell.execute_reply": "2022-05-19T13:52:39.521292Z"
    },
    "papermill": {
     "duration": 20.433493,
     "end_time": "2022-05-19T13:52:39.524758",
     "exception": false,
     "start_time": "2022-05-19T13:52:19.091265",
     "status": "completed"
    },
    "tags": []
   },
   "outputs": [
    {
     "name": "stdout",
     "output_type": "stream",
     "text": [
      "Downloading: 100%|████████████████████████████| 232k/232k [00:00<00:00, 321kB/s]\r\n",
      "Traceback (most recent call last):\r\n",
      "  File \"./NLP-Final/train.py\", line 307, in <module>\r\n",
      "    main()\r\n",
      "  File \"./NLP-Final/train.py\", line 302, in main\r\n",
      "    ins = Instructor(opt)\r\n",
      "  File \"./NLP-Final/train.py\", line 39, in __init__\r\n",
      "    bert = BertModel.from_pretrained(opt.pretrained_bert_name)\r\n",
      "NameError: name 'BertModel' is not defined\r\n",
      "\u001b[0m"
     ]
    }
   ],
   "source": [
    "!python ./NLP-Final/train.py --model_name bert_spc --dataset fixed"
   ]
  },
  {
   "cell_type": "code",
   "execution_count": 11,
   "id": "1652aa75",
   "metadata": {
    "execution": {
     "iopub.execute_input": "2022-05-19T13:52:40.143886Z",
     "iopub.status.busy": "2022-05-19T13:52:40.143603Z",
     "iopub.status.idle": "2022-05-19T13:52:40.161855Z",
     "shell.execute_reply": "2022-05-19T13:52:40.160911Z"
    },
    "papermill": {
     "duration": 0.333139,
     "end_time": "2022-05-19T13:52:40.163934",
     "exception": false,
     "start_time": "2022-05-19T13:52:39.830795",
     "status": "completed"
    },
    "tags": []
   },
   "outputs": [],
   "source": [
    "import shutil\n",
    "shutil.rmtree(\"./NLP-Final\")"
   ]
  },
  {
   "cell_type": "code",
   "execution_count": null,
   "id": "99129ea2",
   "metadata": {
    "execution": {
     "iopub.execute_input": "2022-05-19T13:24:32.852255Z",
     "iopub.status.busy": "2022-05-19T13:24:32.851938Z",
     "iopub.status.idle": "2022-05-19T13:24:32.862362Z",
     "shell.execute_reply": "2022-05-19T13:24:32.861676Z",
     "shell.execute_reply.started": "2022-05-19T13:24:32.852220Z"
    },
    "papermill": {
     "duration": 0.306595,
     "end_time": "2022-05-19T13:52:40.779458",
     "exception": false,
     "start_time": "2022-05-19T13:52:40.472863",
     "status": "completed"
    },
    "tags": []
   },
   "outputs": [],
   "source": []
  },
  {
   "cell_type": "code",
   "execution_count": null,
   "id": "8fc07600",
   "metadata": {
    "papermill": {
     "duration": 0.30733,
     "end_time": "2022-05-19T13:52:41.394024",
     "exception": false,
     "start_time": "2022-05-19T13:52:41.086694",
     "status": "completed"
    },
    "tags": []
   },
   "outputs": [],
   "source": []
  }
 ],
 "metadata": {
  "kernelspec": {
   "display_name": "Python 3",
   "language": "python",
   "name": "python3"
  },
  "language_info": {
   "codemirror_mode": {
    "name": "ipython",
    "version": 3
   },
   "file_extension": ".py",
   "mimetype": "text/x-python",
   "name": "python",
   "nbconvert_exporter": "python",
   "pygments_lexer": "ipython3",
   "version": "3.7.12"
  },
  "papermill": {
   "default_parameters": {},
   "duration": 161.90633,
   "end_time": "2022-05-19T13:52:42.423670",
   "environment_variables": {},
   "exception": null,
   "input_path": "__notebook__.ipynb",
   "output_path": "__notebook__.ipynb",
   "parameters": {},
   "start_time": "2022-05-19T13:50:00.517340",
   "version": "2.3.4"
  }
 },
 "nbformat": 4,
 "nbformat_minor": 5
}
